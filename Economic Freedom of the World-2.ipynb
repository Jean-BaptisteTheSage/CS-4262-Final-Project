{
 "cells": [
  {
   "cell_type": "code",
   "execution_count": 92,
   "metadata": {},
   "outputs": [],
   "source": [
    "#imports\n",
    "import pandas as pd\n",
    "import numpy as np\n",
    "from sklearn.model_selection import train_test_split\n",
    "from sklearn.linear_model import LinearRegression\n",
    "import math\n",
    "from sklearn.inspection import plot_partial_dependence\n",
    "from sklearn.ensemble import GradientBoostingRegressor\n",
    "from sklearn import preprocessing\n",
    "import matplotlib.pyplot as plt"
   ]
  },
  {
   "cell_type": "code",
   "execution_count": 93,
   "metadata": {},
   "outputs": [
    {
     "data": {
      "text/plain": [
       "Index(['Country', 'Year', 'Status', 'Life expectancy ', 'Adult Mortality',\n",
       "       'infant deaths', 'Alcohol', 'percentage expenditure', 'Hepatitis B',\n",
       "       'Measles ', ' BMI ', 'under-five deaths ', 'Polio', 'Total expenditure',\n",
       "       'Diphtheria ', ' HIV/AIDS', 'GDP', 'Population',\n",
       "       ' thinness  1-19 years', ' thinness 5-9 years',\n",
       "       'Income composition of resources', 'Schooling'],\n",
       "      dtype='object')"
      ]
     },
     "execution_count": 93,
     "metadata": {},
     "output_type": "execute_result"
    }
   ],
   "source": [
    "#loads csv file as pandas dataframe\n",
    "df = pd.read_csv ('Life_Expectancy_Data.csv')\n",
    "df.head()\n",
    "df.columns"
   ]
  },
  {
   "cell_type": "code",
   "execution_count": 94,
   "metadata": {},
   "outputs": [
    {
     "name": "stdout",
     "output_type": "stream",
     "text": [
      "Index(['Adult Mortality', 'infant deaths', 'Alcohol', 'percentage expenditure',\n",
      "       'Hepatitis B', 'Measles ', ' BMI ', 'under-five deaths ', 'Polio',\n",
      "       'Total expenditure', 'Diphtheria ', ' HIV/AIDS', 'GDP', 'Population',\n",
      "       ' thinness  1-19 years', ' thinness 5-9 years',\n",
      "       'Income composition of resources', 'Schooling'],\n",
      "      dtype='object')\n"
     ]
    }
   ],
   "source": [
    "\n",
    "df = df[df['Year'] == 2015]\n",
    "df = df.drop(['Country', 'Year', 'Status'], axis=1)\n",
    "\n",
    "#, 'infant deaths', 'percentage expenditure', 'Total expenditure'\n",
    "\n",
    "names = df.columns\n",
    "scaler = preprocessing.StandardScaler()\n",
    "scaled_df = scaler.fit_transform(df)\n",
    "scaled_df = pd.DataFrame(scaled_df, columns=names)\n",
    "\n",
    "df_y = df['Life expectancy '].to_frame()\n",
    "df_y = df_y.to_numpy()\n",
    "\n",
    "df_x = scaled_df.drop(['Life expectancy '], axis=1)\n",
    "print(df_x.columns)\n",
    "df_x = df_x.to_numpy()\n",
    "\n",
    "\n",
    "avg_vec = []\n",
    "for i in range(0, len(df_x[0])):\n",
    "    avg = 0\n",
    "    count = 0\n",
    "    for j in range(0, len(df_x)):\n",
    "        if (math.isnan(df_x[j][i])):\n",
    "            count = count + 1\n",
    "        else:\n",
    "            avg = avg + df_x[j][i]\n",
    "    avg_final = avg / (len(df_x) - count)\n",
    "    avg_vec.append(avg_final)\n",
    "for i in range(0, len(df_x[0])):\n",
    "    for j in range(0, len(df_x)):\n",
    "         if (math.isnan(df_x[j][i])):\n",
    "                df_x[j][i] = avg_vec[i]\n",
    "                \n",
    "\n",
    "        \n"
   ]
  },
  {
   "cell_type": "code",
   "execution_count": 95,
   "metadata": {},
   "outputs": [],
   "source": [
    "X_train, X_test, y_train, y_test =  train_test_split(df_x,df_y,test_size = 0.2, random_state= 0)"
   ]
  },
  {
   "cell_type": "code",
   "execution_count": 96,
   "metadata": {},
   "outputs": [
    {
     "name": "stdout",
     "output_type": "stream",
     "text": [
      "mse: [50.96025152]\n",
      "intercept: [71.34950653]\n",
      "coefficient: [[-2.74249522e+00  3.00567177e+01  2.18283795e+00  7.26962286e-01\n",
      "   8.11302799e-01 -7.78055734e-01 -3.00407416e-01 -3.09245944e+01\n",
      "   5.49539359e-01  9.11603913e+00  1.06216494e-01 -5.77033257e-01\n",
      "   2.43616248e-01 -1.99572399e-02 -5.95438811e-01 -3.09719145e-01\n",
      "   3.58417093e+00  2.96598171e-01]]\n",
      "score: 0.24406081346985997\n",
      "[[72.7]\n",
      " [69.8]\n",
      " [53.1]\n",
      " [58.3]\n",
      " [61.8]\n",
      " [62.3]\n",
      " [82.8]\n",
      " [67.5]\n",
      " [74.4]\n",
      " [68.3]\n",
      " [76.3]\n",
      " [65.8]\n",
      " [74.1]\n",
      " [82.3]\n",
      " [73.5]\n",
      " [57.3]\n",
      " [54.5]\n",
      " [69.4]\n",
      " [82.7]\n",
      " [58.9]\n",
      " [74.6]\n",
      " [64.8]\n",
      " [63.5]\n",
      " [76.7]\n",
      " [76.4]\n",
      " [71.9]\n",
      " [74.6]\n",
      " [65.7]\n",
      " [59.8]\n",
      " [65.7]\n",
      " [57.6]\n",
      " [62.4]\n",
      " [59.6]\n",
      " [61.1]\n",
      " [77.1]\n",
      " [69.7]\n",
      " [81.5]]\n",
      "[[73.37463007]\n",
      " [67.00099873]\n",
      " [49.35939667]\n",
      " [57.40849369]\n",
      " [65.15748655]\n",
      " [58.6918362 ]\n",
      " [83.58509786]\n",
      " [73.85164998]\n",
      " [75.5415524 ]\n",
      " [67.25078256]\n",
      " [78.38734909]\n",
      " [66.90675316]\n",
      " [75.02422268]\n",
      " [76.28500105]\n",
      " [71.99728035]\n",
      " [53.52760594]\n",
      " [15.66717588]\n",
      " [70.50125488]\n",
      " [80.52790863]\n",
      " [56.50590528]\n",
      " [71.61184396]\n",
      " [55.54386299]\n",
      " [65.07201231]\n",
      " [81.00872092]\n",
      " [79.38986847]\n",
      " [68.95769239]\n",
      " [76.80910348]\n",
      " [62.08955707]\n",
      " [63.73748561]\n",
      " [67.65851928]\n",
      " [52.04278191]\n",
      " [64.7336613 ]\n",
      " [60.13568111]\n",
      " [62.46525151]\n",
      " [78.30872503]\n",
      " [72.06493008]\n",
      " [81.3776163 ]]\n"
     ]
    },
    {
     "data": {
      "text/plain": [
       "Text(0, 0.5, 'Predictions')"
      ]
     },
     "execution_count": 96,
     "metadata": {},
     "output_type": "execute_result"
    },
    {
     "data": {
      "image/png": "[encoded data removed]",
      "text/plain": [
       "<Figure size 432x288 with 1 Axes>"
      ]
     },
     "metadata": {
      "needs_background": "light"
     },
     "output_type": "display_data"
    }
   ],
   "source": [
    "model = LinearRegression().fit(X_train, y_train)\n",
    "predictions = model.predict(X_test)\n",
    "#print(predictions[1])\n",
    "#print(y_test[1])\n",
    "#find MSE squared error\n",
    "\n",
    "\n",
    "count = 0\n",
    "for i in range(0, len(predictions)):\n",
    "    count = count + (predictions[i] - y_test[i])**2\n",
    "mse = count / len(predictions)\n",
    "score = model.score(X_test, y_test)\n",
    "\n",
    "print('mse:', mse)\n",
    "print('intercept:', model.intercept_)\n",
    "print('coefficient:', model.coef_)\n",
    "print('score:', model.score(X_test, y_test))\n",
    "print(y_test)\n",
    "print(predictions)\n",
    "plt.scatter(y_test, predictions)\n",
    "plt.xlabel('True Values')\n",
    "plt.ylabel('Predictions')\n",
    "\n",
    "#fix this issue by replacing missing values with the mean of the columns"
   ]
  },
  {
   "cell_type": "code",
   "execution_count": 111,
   "metadata": {},
   "outputs": [
    {
     "name": "stdout",
     "output_type": "stream",
     "text": [
      "None\n"
     ]
    },
    {
     "data": {
      "image/png": "[encoded data removed]",
      "text/plain": [
       "<Figure size 432x288 with 2 Axes>"
      ]
     },
     "metadata": {
      "needs_background": "light"
     },
     "output_type": "display_data"
    }
   ],
   "source": [
    "clf = GradientBoostingRegressor(n_estimators=100, learning_rate=1.0, max_depth=1, random_state=0).fit(X_train, y_train.ravel())\n",
    "features = [0, 9]\n",
    "print(plot_partial_dependence(clf, X_train, features))"
   ]
  },
  {
   "cell_type": "code",
   "execution_count": null,
   "metadata": {},
   "outputs": [],
   "source": [
    "#1, 3, 9, (4 also)\n",
    "#Use 0, 4, 15, maybe 17"
   ]
  },
  {
   "cell_type": "code",
   "execution_count": 110,
   "metadata": {},
   "outputs": [
    {
     "name": "stdout",
     "output_type": "stream",
     "text": [
      "mse: [12.34126762]\n",
      "intercept: [72.44794521]\n",
      "coefficient: [[-2.78718728  1.23964913  0.96180646 -0.56051735  1.03302644 -1.20502218\n",
      "  -0.34332887  0.27962746 -0.06078358  1.4390975   0.4701505   1.2007458 ]]\n",
      "score: 0.8169308916638458\n"
     ]
    },
    {
     "data": {
      "text/plain": [
       "Text(0, 0.5, 'Predictions')"
      ]
     },
     "execution_count": 110,
     "metadata": {},
     "output_type": "execute_result"
    },
    {
     "data": {
      "image/png": "[encoded data removed]",
      "text/plain": [
       "<Figure size 432x288 with 1 Axes>"
      ]
     },
     "metadata": {
      "needs_background": "light"
     },
     "output_type": "display_data"
    }
   ],
   "source": [
    "from sklearn.preprocessing import StandardScaler\n",
    "from sklearn.decomposition import PCA\n",
    "X_train, X_test, y_train, y_test =  train_test_split(df_x,df_y,test_size = 0.2, random_state= 0)\n",
    "\n",
    "scaler = StandardScaler()\n",
    "scaler.fit(X_train)\n",
    "\n",
    "X_train = scaler.transform(X_train)\n",
    "X_test = scaler.transform(X_test)\n",
    "\n",
    "\n",
    "pca = PCA(.95)\n",
    "pca = pca.fit(X_train)\n",
    "X_train = pca.transform(X_train)\n",
    "X_test = pca.transform(X_test)\n",
    "\n",
    "model = LinearRegression().fit(X_train, y_train)\n",
    "predictions = model.predict(X_test)\n",
    "#print(predictions[1])\n",
    "#print(y_test[1])\n",
    "#find MSE squared error\n",
    "\n",
    "\n",
    "count = 0\n",
    "for i in range(0, len(predictions)):\n",
    "    count = count + (predictions[i] - y_test[i])**2\n",
    "mse = count / len(predictions)\n",
    "score = model.score(X_test, y_test)\n",
    "\n",
    "print('mse:', mse)\n",
    "print('intercept:', model.intercept_)\n",
    "print('coefficient:', model.coef_)\n",
    "print('score:', model.score(X_test, y_test))\n",
    "\n",
    "plt.scatter(y_test, predictions)\n",
    "plt.xlabel('True Values')\n",
    "plt.ylabel('Predictions')\n",
    "#fix this issue by replacing missing values with the mean of the columns"
   ]
  }
 ],
 "metadata": {
  "kernelspec": {
   "display_name": "Python 3",
   "language": "python",
   "name": "python3"
  },
  "language_info": {
   "codemirror_mode": {
    "name": "ipython",
    "version": 3
   },
   "file_extension": ".py",
   "mimetype": "text/x-python",
   "name": "python",
   "nbconvert_exporter": "python",
   "pygments_lexer": "ipython3",
   "version": "3.7.4"
  }
 },
 "nbformat": 4,
 "nbformat_minor": 2
}
