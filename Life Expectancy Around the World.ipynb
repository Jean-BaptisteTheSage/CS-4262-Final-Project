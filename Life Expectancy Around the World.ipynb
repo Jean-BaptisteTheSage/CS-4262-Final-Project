{
 "cells": [
  {
   "cell_type": "code",
   "execution_count": 1,
   "metadata": {},
   "outputs": [],
   "source": [
    "# imports\n",
    "import pandas as pd\n",
    "import numpy as np\n",
    "import matplotlib.pyplot as plt\n",
    "from sklearn.model_selection import train_test_split\n",
    "from sklearn.linear_model import LinearRegression\n",
    "from sklearn.inspection import plot_partial_dependence\n",
    "from sklearn.ensemble import GradientBoostingRegressor\n",
    "from sklearn import preprocessing\n",
    "from sklearn.decomposition import PCA\n",
    "import math\n",
    "import sklearn.metrics"
   ]
  },
  {
   "cell_type": "code",
   "execution_count": 2,
   "metadata": {},
   "outputs": [
    {
     "data": {
      "text/plain": [
       "Index(['Country', 'Year', 'Status', 'Life expectancy ', 'Adult Mortality',\n",
       "       'infant deaths', 'Alcohol', 'percentage expenditure', 'Hepatitis B',\n",
       "       'Measles ', ' BMI ', 'under-five deaths ', 'Polio', 'Total expenditure',\n",
       "       'Diphtheria ', ' HIV/AIDS', 'GDP', 'Population',\n",
       "       ' thinness  1-19 years', ' thinness 5-9 years',\n",
       "       'Income composition of resources', 'Schooling'],\n",
       "      dtype='object')"
      ]
     },
     "execution_count": 2,
     "metadata": {},
     "output_type": "execute_result"
    }
   ],
   "source": [
    "# loads csv file as pandas dataframe\n",
    "df = pd.read_csv (r'Life Expectancy Data.csv')\n",
    "df.columns"
   ]
  },
  {
   "cell_type": "code",
   "execution_count": 3,
   "metadata": {},
   "outputs": [
    {
     "name": "stderr",
     "output_type": "stream",
     "text": [
      "/Users/shelbyku8799/anaconda3/lib/python3.7/site-packages/pandas/core/indexing.py:190: SettingWithCopyWarning: \n",
      "A value is trying to be set on a copy of a slice from a DataFrame\n",
      "\n",
      "See the caveats in the documentation: http://pandas.pydata.org/pandas-docs/stable/indexing.html#indexing-view-versus-copy\n",
      "  self._setitem_with_indexer(indexer, value)\n"
     ]
    }
   ],
   "source": [
    "# preprocessing\n",
    "\n",
    "# limit the year to 2015 \n",
    "df = df[df['Year'] == 2015]\n",
    "\n",
    "# numpy array of target values\n",
    "df_y = df['Life expectancy '].to_frame()\n",
    "df_y = df_y.to_numpy()\n",
    "\n",
    "df = df.drop(['Country', 'Year','Life expectancy '], axis=1)\n",
    "\n",
    "# convert categorical column to numeric column\n",
    "df_alter = df['Status']\n",
    "df_alter.loc[df.Status == 'Developing'] = 0\n",
    "df_alter.loc[df.Status == 'Developed'] = 1\n",
    "df['Status'] = df_alter\n",
    "\n",
    "# created second numpy array after PDP analysis   \n",
    "df_two = df\n",
    "df_two = df_two.drop(['Status', 'percentage expenditure','Total expenditure'], axis = 1)\n",
    "df_two = df_two.to_numpy()\n",
    "\n",
    "df = df.to_numpy()\n",
    "\n",
    "#impute missing values\n",
    "def impute(df):\n",
    "    avg_vec = []\n",
    "    for i in range(0, len(df[0])):\n",
    "        avg = 0\n",
    "        count = 0\n",
    "        for j in range(0, len(df)):\n",
    "            if (math.isnan(df[j][i])):\n",
    "                count = count + 1\n",
    "            else:\n",
    "                avg = avg + df[j][i]\n",
    "        avg_final = avg / (len(df) - count)\n",
    "        avg_vec.append(avg_final)\n",
    "    for i in range(0, len(df[0])):\n",
    "        for j in range(0, len(df)):\n",
    "            if (math.isnan(df[j][i])):\n",
    "                df[j][i] = avg_vec[i]\n",
    "    return df\n",
    "                \n",
    "df = impute(df)\n",
    "df_two = impute(df_two)\n",
    "                \n",
    "# scale the data \n",
    "df_x = preprocessing.StandardScaler().fit_transform(df)\n",
    "df_two = preprocessing.StandardScaler().fit_transform(df_two)\n",
    "                       "
   ]
  },
  {
   "cell_type": "code",
   "execution_count": 4,
   "metadata": {},
   "outputs": [],
   "source": [
    "'''\n",
    "Performs k-fold cross validation on the preprocessed data. \n",
    "@param  model - type of model\n",
    "        k (int)\n",
    "        x (numpy.ndarray) \n",
    "        y (numpy.ndarray)\n",
    "        value (int) - if 1, PDP plots are outputted, if 2, PCA is performed \n",
    "Note: the statements that output the PDPs for various features are currently commented out \n",
    "because jupyter notebook only allows a limited number of plots to be shown. These statements\n",
    "were uncommented one at a time when PDP analysis was run.\n",
    "'''\n",
    "def k_fold_cross_validation(model, k, x_array, y_array, value):\n",
    "    score = 0\n",
    "    length = int(len(y_array))\n",
    "    size = int(length / k)\n",
    "    for i in range(0, k):\n",
    "        test_begin = (size * i)\n",
    "        test_end = test_begin + size\n",
    "        x_test = x_array[test_begin:test_end]\n",
    "        y_test = y_array[test_begin:test_end]\n",
    "        if i == 0:\n",
    "            x_train = x_array[test_end:]\n",
    "            y_train = y_array[test_end:]\n",
    "        elif i == (k - 1):  \n",
    "            x_train = x_array[0: test_begin]\n",
    "            y_train = y_array[0: test_begin]\n",
    "        else:\n",
    "            x_train_one = x_array[0: test_begin]\n",
    "            x_train_two = x_array[test_end:]\n",
    "            x_train = np.concatenate((x_train_one, x_train_two), axis=0)\n",
    "            y_train_one = y_array[0: test_begin]\n",
    "            y_train_two = y_array[test_end:]\n",
    "            y_train = np.concatenate((y_train_one, y_train_two), axis=0)\n",
    "        if (value == 1):\n",
    "            clf = GradientBoostingRegressor(n_estimators=100, learning_rate=1.0, max_depth=1).fit(x_train, y_train.ravel())\n",
    "            #plot_partial_dependence(clf, x_train, [0, 1])\n",
    "            #plot_partial_dependence(clf, x_train, [2, 3])\n",
    "            #plot_partial_dependence(clf, x_train, [4, 5])\n",
    "            #plot_partial_dependence(clf, x_train, [6, 7])\n",
    "            #plot_partial_dependence(clf, x_train, [8, 9])\n",
    "            #plot_partial_dependence(clf, x_train, [10, 11])\n",
    "            #plot_partial_dependence(clf, x_train, [12, 13])\n",
    "            #plot_partial_dependence(clf, x_train, [14, 15])\n",
    "            #plot_partial_dependence(clf, x_train, [16, 17, 18])\n",
    "        else: \n",
    "            if (value == 2):\n",
    "                pca = PCA(0.95)\n",
    "                pca = pca.fit(x_train)\n",
    "                x_train = pca.transform(x_train)\n",
    "                x_test = pca.transform(x_test)   \n",
    "            #train Linear Regression model\n",
    "            model_update = model.fit(x_train, y_train)\n",
    "            #predict on test set using trained Linear Regression mode\n",
    "            predictions = model_update.predict(x_test)\n",
    "            #calculation of MSE\n",
    "            count = 0\n",
    "            for i in range(0, len(predictions)):\n",
    "                count = count + (predictions[i] - y_test[i])**2\n",
    "            mse = count / len(predictions)\n",
    "            score = score + mse\n",
    "    return score / k\n"
   ]
  },
  {
   "cell_type": "code",
   "execution_count": 6,
   "metadata": {},
   "outputs": [
    {
     "name": "stdout",
     "output_type": "stream",
     "text": [
      "No PCA and Before PDP Analysis:\n",
      "[array([29.62834752]), array([29.69259343]), array([19.37868362]), array([19.00740354]), array([19.70086289]), array([18.74057416]), array([18.19025435]), array([19.19443765]), array([17.77877626]), array([18.22457811]), array([18.09056356]), array([18.38921084]), array([18.72692464]), array([18.05531219]), array([17.9080184]), array([18.42972853]), array([18.11839167]), array([18.9874181])]\n",
      "No PCA and After PDP Analysis:\n",
      "[array([30.92013709]), array([28.27321188]), array([18.64248746]), array([18.74680052]), array([19.09322026]), array([18.35659777]), array([17.78066299]), array([18.53352992]), array([17.25414828]), array([17.6786144]), array([17.70189279]), array([17.98802329]), array([18.28504475]), array([17.66014881]), array([17.35091123]), array([17.47945111]), array([17.72367214]), array([17.89241987])]\n",
      "Difference between No PCA of Before PDP and After PDP:\n",
      "[array([-1.29178958]), array([1.41938155]), array([0.73619616]), array([0.26060301]), array([0.60764263]), array([0.38397639]), array([0.40959136]), array([0.66090773]), array([0.52462798]), array([0.54596372]), array([0.38867077]), array([0.40118755]), array([0.44187989]), array([0.39516337]), array([0.55710717]), array([0.95027741]), array([0.39471953]), array([1.09499823])]\n",
      "PCA:\n",
      "[array([11.70892793]), array([12.40519461]), array([11.2527701]), array([11.0387766]), array([11.54205147]), array([12.25003859]), array([11.32480391]), array([11.44850454]), array([11.2369629]), array([11.28176861]), array([11.33072923]), array([11.29944065]), array([11.38826769]), array([11.03303707]), array([11.46375363]), array([11.37901337]), array([11.38157188]), array([11.1564581])]\n",
      "Diffence between PDP and PCA:\n",
      "[array([19.21120916]), array([15.86801727]), array([7.38971736]), array([7.70802392]), array([7.55116879]), array([6.10655918]), array([6.45585907]), array([7.08502537]), array([6.01718538]), array([6.39684579]), array([6.37116355]), array([6.68858263]), array([6.89677707]), array([6.62711175]), array([5.88715761]), array([6.10043774]), array([6.34210026]), array([6.73596177])]\n"
     ]
    }
   ],
   "source": [
    "model = LinearRegression()\n",
    "\n",
    "mse_no_pca_no_pdp = []\n",
    "mse_no_pca_pdp = []\n",
    "difference_no_pca = []\n",
    "mse_pca = []\n",
    "difference_pca_and_pdp = []\n",
    "\n",
    "#function for when PDP plots were displayed\n",
    "#k_fold_cross_validation(model, 10, df_x, df_y, 1)\n",
    "\n",
    "for j in range(2, 20):\n",
    "    mse_one = k_fold_cross_validation(model, j, df_x, df_y, 0)\n",
    "    mse_no_pca_no_pdp.append(mse_one)\n",
    "    mse_two = k_fold_cross_validation(model, j, df_two, df_y, 0)\n",
    "    mse_no_pca_pdp.append(mse_two)\n",
    "    difference_no_pca.append(mse_one - mse_two)\n",
    "    mse_three = k_fold_cross_validation(model, j, df_x, df_y, 2)\n",
    "    mse_pca.append(mse_three)\n",
    "    difference_pca_and_pdp.append(mse_two - mse_three)\n",
    "         \n",
    "print(\"No PCA and Before PDP Analysis:\")  \n",
    "print(mse_no_pca_no_pdp)\n",
    "\n",
    "print(\"No PCA and After PDP Analysis:\")  \n",
    "print(mse_no_pca_pdp)\n",
    "\n",
    "#positive value means before PDP yielded a higher mean-squared error\n",
    "print(\"Difference between No PCA of Before PDP and After PDP:\")\n",
    "print(difference_no_pca)\n",
    "\n",
    "print(\"PCA:\")  \n",
    "print(mse_pca)\n",
    "\n",
    "#positive value means PCA yielded a higher mean-squared error\n",
    "print(\"Diffence between PDP and PCA:\")\n",
    "print(difference_pca_and_pdp)\n"
   ]
  },
  {
   "cell_type": "code",
   "execution_count": null,
   "metadata": {},
   "outputs": [],
   "source": [
    "from keras.models import Sequential\n",
    "from keras.layers import Dense, Dropout\n",
    "from eli5.sklearn import PermutationImportance\n",
    "from eli5 import show_weights\n",
    "\n",
    "X_train, X_test, y_train, y_test =  train_test_split(df_x,df_y,test_size = 0.2, random_state= 0)\n",
    "X_train = scaler.fit_transform(X_train)\n",
    "y_train = scaler.fit_transform(y_train)\n",
    "model = Sequential()\n",
    "\n",
    "# input layer\n",
    "model.add(Dense(25, activation=\"relu\", input_shape=(18,)))\n",
    "\n",
    "# hidden layers\n",
    "model.add(Dropout(0.2))\n",
    "model.add(Dense(25, activation=\"relu\"))\n",
    "model.add(Dropout(0.2))\n",
    "model.add(Dense(25, activation=\"relu\"))\n",
    "\n",
    "# output layer\n",
    "model.add(Dense(1, activation=\"linear\"))\n",
    "\n",
    "model.compile(\n",
    "    optimizer=\"adam\",\n",
    "    loss=\"mse\",\n",
    "    metrics=[\"mse\"])\n",
    "\n",
    "X_test = scaler.fit_transform(X_test)\n",
    "y_test = scaler.fit_transform(y_test)\n",
    "\n",
    "results = model.fit(\n",
    "    X_train,\n",
    "    y_train,\n",
    "    batch_size=5,\n",
    "    validation_data=(X_test, y_test))\n",
    "\n",
    "plt.scatter(y_test, preds)\n",
    "plt.xlabel('True Values')\n",
    "plt.ylabel('Predictions')\n",
    "\n",
    "print('MSE :', np.mean(results.history['val_loss']))\n",
    "\n",
    "bigperm = PermutationImportance(model, scoring='neg_mean_squared_error', random_state=0).fit(X_test, y_test)\n",
    "for i in range(len(names)):\n",
    "    print('Feature %d: %s' % (i, names[i]))\n",
    "show_weights(bigperm)"
   ]
  },
  {
   "cell_type": "code",
   "execution_count": 7,
   "metadata": {},
   "outputs": [],
   "source": [
    "def get_economic_scores():\n",
    "    df = pd.read_csv ('efw_cc_updated.csv')\n",
    "    df.head()\n",
    "    df.columns\n",
    "    df = df[df['year'] == 2015]\n",
    "    df = df.drop(['1a_government_consumption', 'year', 'ISO_code', '1b_transfers', '1c_gov_enterprises',\n",
    "           '1d_top_marg_tax_rate', '1_size_government', '2a_judicial_independence',\n",
    "           '2b_impartial_courts', '2c_protection_property_rights',\n",
    "           '2d_military_interference', '2e_integrity_legal_system',\n",
    "           '2f_legal_enforcement_contracts', '2g_restrictions_sale_real_property',\n",
    "           '2h_reliability_police', '2i_business_costs_crime',\n",
    "           '2j_gender_adjustment', '2_property_rights', '3a_money_growth',\n",
    "           '3b_std_inflation', '3c_inflation', '3d_freedom_own_foreign_currency',\n",
    "           '3_sound_money', '4a_tariffs', '4b_regulatory_trade_barriers',\n",
    "           '4c_black_market', '4d_control_movement_capital_ppl', '4_trade',\n",
    "           '5a_credit_market_reg', '5b_labor_market_reg', '5c_business_reg',\n",
    "           '5_regulation', 'rank', 'quartile'], axis=1)\n",
    "    df = df.rename(columns = {\"countries\":\"Country\"})\n",
    "    return df"
   ]
  },
  {
   "cell_type": "code",
   "execution_count": 8,
   "metadata": {},
   "outputs": [],
   "source": [
    "def get_life_expectancy():\n",
    "    df = pd.read_csv ('Life Expectancy Data.csv')\n",
    "    df.head()\n",
    "    df.columns\n",
    "    df = df[df['Year'] == 2015]\n",
    "    df = df.drop(['Status', 'Year', 'Adult Mortality','infant deaths', 'Alcohol', 'percentage expenditure', 'Hepatitis B',\n",
    "           'Measles ', ' BMI ', 'under-five deaths ', 'Polio', 'Total expenditure',\n",
    "           'Diphtheria ', ' HIV/AIDS', 'GDP', 'Population',\n",
    "           ' thinness  1-19 years', ' thinness 5-9 years',\n",
    "           'Income composition of resources', 'Schooling'], axis=1)\n",
    "    return df"
   ]
  },
  {
   "cell_type": "code",
   "execution_count": 9,
   "metadata": {},
   "outputs": [],
   "source": [
    "'''\n",
    "Renders a simple (x,y) plot. \n",
    "@param x (numpy.ndarray) - average number of rooms \n",
    "       y (numpy.ndarray) - median price of house \n",
    "'''\n",
    "def simple_plot(x,y):\n",
    "    plt.scatter(x,y)\n",
    "    plt.title('Countries Around the World')\n",
    "    plt.xlabel('Economic Freedom Score (1-10)')\n",
    "    plt.ylabel('Life Expectancy (years)')\n",
    "    plt.show()"
   ]
  },
  {
   "cell_type": "code",
   "execution_count": 10,
   "metadata": {},
   "outputs": [
    {
     "data": {
      "image/png": "[encoded data removed]",
      "text/plain": [
       "<Figure size 432x288 with 1 Axes>"
      ]
     },
     "metadata": {
      "needs_background": "light"
     },
     "output_type": "display_data"
    }
   ],
   "source": [
    "#TODO\n",
    "# Run the functions here. \n",
    "life_expectancy =  get_life_expectancy()\n",
    "economic_scores = get_economic_scores()\n",
    "    \n",
    "df3 = pd.merge(life_expectancy, economic_scores, how='inner', on = 'Country')\n",
    "\n",
    "# print(df3[[\"ECONOMIC FREEDOM\"]])\n",
    "\n",
    "life_expect_list = df3[[\"Life expectancy \"]]\n",
    "econ_score_list = df3[[\"ECONOMIC FREEDOM\"]]\n",
    "\n",
    "simple_plot(econ_score_list, life_expect_list)"
   ]
  },
  {
   "cell_type": "code",
   "execution_count": 11,
   "metadata": {},
   "outputs": [],
   "source": [
    "def plot_actual_vs_pred(test_x, test_y, pred_y):\n",
    "    predicted = plt.scatter(test_x, test_y, color='blue')\n",
    "    actual = plt.scatter(test_x, pred_y, color='red')\n",
    "    plt.title('Economic Freedom Score vs. Actual Life Expectancy and Predicted Life Expectancy')\n",
    "    plt.xlabel('Economic Freedom Score (1-10)')\n",
    "    plt.ylabel('Life Expectancy (years)')\n",
    "    plt.legend((predicted, actual), ('Actual', 'Predicted'), scatterpoints = 1, loc = 'upper left')\n",
    "    plt.show()\n",
    "    return"
   ]
  },
  {
   "cell_type": "code",
   "execution_count": 12,
   "metadata": {},
   "outputs": [
    {
     "name": "stdout",
     "output_type": "stream",
     "text": [
      "[35.008552]\n",
      "[[5.5303571]]\n"
     ]
    },
    {
     "data": {
      "image/png": "[encoded data removed]",
      "text/plain": [
       "<Figure size 432x288 with 1 Axes>"
      ]
     },
     "metadata": {
      "needs_background": "light"
     },
     "output_type": "display_data"
    },
    {
     "name": "stdout",
     "output_type": "stream",
     "text": [
      "r^2 score:  0.4503196212786459\n"
     ]
    }
   ],
   "source": [
    "X_train, X_test, y_train, y_test = train_test_split(econ_score_list, life_expect_list, \n",
    "                                                    test_size=0.2, random_state=0)\n",
    "regressor = LinearRegression()  \n",
    "regressor.fit(X_train, y_train) #training the algorithm\n",
    "\n",
    "#To retrieve the intercept:\n",
    "print(regressor.intercept_)\n",
    "#For retrieving the slope:\n",
    "print(regressor.coef_)\n",
    "y_pred = regressor.predict(X_test)\n",
    "plot_actual_vs_pred(X_test, y_test, y_pred)\n",
    "r2_score = sklearn.metrics.r2_score(y_test, y_pred)\n",
    "print(\"r^2 score: \", r2_score)"
   ]
  },
  {
   "cell_type": "code",
   "execution_count": null,
   "metadata": {},
   "outputs": [],
   "source": []
  }
 ],
 "metadata": {
  "kernelspec": {
   "display_name": "Python 3",
   "language": "python",
   "name": "python3"
  },
  "language_info": {
   "codemirror_mode": {
    "name": "ipython",
    "version": 3
   },
   "file_extension": ".py",
   "mimetype": "text/x-python",
   "name": "python",
   "nbconvert_exporter": "python",
   "pygments_lexer": "ipython3",
   "version": "3.7.3"
  }
 },
 "nbformat": 4,
 "nbformat_minor": 2
}
